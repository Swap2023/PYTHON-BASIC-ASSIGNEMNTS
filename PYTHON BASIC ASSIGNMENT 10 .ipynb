{
 "cells": [
  {
   "cell_type": "markdown",
   "id": "b86e3ddf",
   "metadata": {},
   "source": [
    "PYTHON BASIC ASSIGNMENT 10\n",
    "SUBMITTED BY :SWAPNIL GOSAVI\n",
    "1. What is the role of try and exception block?\n",
    "2. What is the syntax for a basic try-except block?\n",
    "3. What happens if an exception occurs inside a try block and there is no matching\n",
    "except block?\n",
    "4. What is the difference between using a bare except block and specifying a specific\n",
    "exception type?\n",
    "5. Can you have nested try-except blocks in Python? If yes, then give an example.\n",
    "6. Can we use multiple exception blocks, if yes then give an example.\n",
    "7. Write the reason due to which following errors are raised:\n",
    "a. EOFError\n",
    "b. FloatingPointError\n",
    "c. IndexError\n",
    "d. MemoryError\n",
    "e. OverflowError\n",
    "f. TabError\n",
    "g. ValueError\n",
    "8. Write code for the following given scenario and add try-exception block to it.\n",
    "a. Program to divide two numbers\n",
    "b. Program to convert a string to an integer\n",
    "c. Program to access an element in a list\n",
    "d. Program to handle a specific exception\n",
    "e. Program to handle any exception"
   ]
  },
  {
   "cell_type": "markdown",
   "id": "2b8ddb31",
   "metadata": {},
   "source": [
    "Q 1 ) What is the role of try and exception block?"
   ]
  },
  {
   "cell_type": "markdown",
   "id": "a881e09a",
   "metadata": {},
   "source": [
    "#Ans 1)\n",
    "The \"try-except\" block is a fundamental construct in many programming languages, including Python. It is used for error handling and allows you to catch and handle exceptions, which are unexpected or exceptional events that occur during the execution of a program. The general purpose of a try-except block is to prevent the program from crashing or terminating abruptly when an error occurs.\n",
    "The code that might raise an exception is placed within the \"try\" block.\n",
    "If an exception occurs during the execution of the code within the try block, the rest of the block is skipped, and the program jumps to the corresponding \"except\" block.\n",
    "The \"except\" block contains the code that handles the exception. It specifies what actions should be taken when a specific type of exception is encountered.\n",
    "If the exception raised within the try block matches the type specified in the except block, that except block is executed. If the exception does not match any of the specified types, it is propagated to the calling code or, if not caught, it results in the program terminating with an error message."
   ]
  },
  {
   "cell_type": "markdown",
   "id": "e2b9d926",
   "metadata": {},
   "source": [
    "Q 2)What is the syntax for a basic try-except block?"
   ]
  },
  {
   "cell_type": "markdown",
   "id": "6035a67d",
   "metadata": {},
   "source": [
    "# Ans 2)\n",
    "try:\n",
    "    # Code that might raise an exception\n",
    "    # ...\n",
    "except ExceptionType:\n",
    "    # Exception handling code\n",
    "    # ...\n"
   ]
  },
  {
   "cell_type": "markdown",
   "id": "f0bd519b",
   "metadata": {},
   "source": [
    "try:\n",
    "    # Code that might raise an exception\n",
    "    # ...\n",
    "except ExceptionType1:\n",
    "    # Exception handling code for ExceptionType1\n",
    "    # ...\n",
    "except ExceptionType2:\n",
    "    # Exception handling code for ExceptionType2\n",
    "    # ...\n"
   ]
  },
  {
   "cell_type": "markdown",
   "id": "1aa8f781",
   "metadata": {},
   "source": [
    "try:\n",
    "    # Code that might raise an exception\n",
    "    # ...\n",
    "except ExceptionType:\n",
    "    # Exception handling code\n",
    "    # ...\n",
    "else:\n",
    "    # Code that executes if no exception occurs\n",
    "    # ...\n"
   ]
  },
  {
   "cell_type": "markdown",
   "id": "1496a775",
   "metadata": {},
   "source": [
    "try:\n",
    "    # Code that might raise an exception\n",
    "    # ...\n",
    "except ExceptionType:\n",
    "    # Exception handling code\n",
    "    # ...\n",
    "finally:\n",
    "    # Code that always executes\n",
    "    # ...\n"
   ]
  },
  {
   "cell_type": "markdown",
   "id": "a4f54fe4",
   "metadata": {},
   "source": [
    "Q 3) What happens if an exception occurs inside a try block and there is no matching\n",
    "except block"
   ]
  },
  {
   "cell_type": "markdown",
   "id": "f805f9c9",
   "metadata": {},
   "source": [
    "#Ans3)\n",
    "If an exception occurs inside a try block and there is no matching except block to handle that specific exception type, the exception will propagate up the call stack to the next level of the program. This process continues until an appropriate except block is found or, if no except block catches the exception, the program terminates with an error message.\n",
    "\n",
    "When an exception is not caught and handled, it is called an unhandled exception. When an unhandled exception occurs, Python prints a traceback that shows the sequence of function calls leading up to the point where the exception was raised, along with the type of exception and an error message."
   ]
  },
  {
   "cell_type": "markdown",
   "id": "943d86aa",
   "metadata": {},
   "source": [
    "try:\n",
    "    # Code that might raise an exception\n",
    "    x = 10 / 0  # Division by zero raises a ZeroDivisionError\n",
    "except ValueError:\n",
    "    # Exception handling code for ValueError\n",
    "    print(\"Error: Value Error occurred.\")\n"
   ]
  },
  {
   "cell_type": "markdown",
   "id": "891612c5",
   "metadata": {},
   "source": [
    "Q 4) What is the difference between using a bare except block and specifying a specific\n",
    "exception type?"
   ]
  },
  {
   "cell_type": "markdown",
   "id": "53f8fd33",
   "metadata": {},
   "source": [
    "Ans 4)\n",
    "Bare except block:\n",
    "A bare except block is written without specifying any particular exception type. It catches and handles all types of exceptions that may occur within the try block. While this can prevent the program from crashing, it is generally considered a bad practice because it can hide errors and make debugging more difficult. It is recommended to avoid using a bare except block unless you have a specific reason to catch and handle all exceptions."
   ]
  },
  {
   "cell_type": "markdown",
   "id": "704b196c",
   "metadata": {},
   "source": [
    "try:\n",
    "    # Code that might raise an exception\n",
    "    # ...\n",
    "except:\n",
    "    # Exception handling code for all types of exceptions\n",
    "    # ...\n"
   ]
  },
  {
   "cell_type": "markdown",
   "id": "d4cd201d",
   "metadata": {},
   "source": [
    "Specific exception type:\n",
    "By specifying a specific exception type in the except block, you have more control over which exceptions are caught and handled. This allows you to provide appropriate error handling for different types of exceptions separately. It is considered a best practice to handle specific exceptions that you anticipate or know may occur."
   ]
  },
  {
   "cell_type": "markdown",
   "id": "27ddc852",
   "metadata": {},
   "source": [
    "try:\n",
    "    # Code that might raise an exception\n",
    "    # ...\n",
    "except ValueError:\n",
    "    # Exception handling code for ValueError\n",
    "    # ...\n",
    "except ZeroDivisionError:\n",
    "    # Exception handling code for ZeroDivisionError\n",
    "    # ...\n"
   ]
  },
  {
   "cell_type": "markdown",
   "id": "ed71d33b",
   "metadata": {},
   "source": [
    "Q 5) Can you have nested try-except blocks in Python? If yes, then give an example."
   ]
  },
  {
   "cell_type": "markdown",
   "id": "529195e0",
   "metadata": {},
   "source": [
    "#Ans 5)\n",
    "Yes, it is possible to have nested try-except blocks in Python. This means that you can have a try-except block within another try block. This allows for more fine-grained exception handling and enables you to handle exceptions at different levels of your code."
   ]
  },
  {
   "cell_type": "markdown",
   "id": "40f54c34",
   "metadata": {},
   "source": [
    "try:\n",
    "    # Outer try block\n",
    "    print(\"Outer try block started.\")\n",
    "    \n",
    "    try:\n",
    "        # Inner try block\n",
    "        print(\"Inner try block started.\")\n",
    "        x = 10 / 0  # Division by zero raises a ZeroDivisionError\n",
    "    except ZeroDivisionError:\n",
    "        # Inner except block\n",
    "        print(\"Error: Division by zero occurred in the inner try block.\")\n",
    "    \n",
    "    print(\"Outer try block finished.\")\n",
    "except:\n",
    "    # Outer except block\n",
    "    print(\"Error occurred in the outer try block.\")\n",
    "\n",
    "print(\"End of the program.\")\n"
   ]
  },
  {
   "cell_type": "markdown",
   "id": "578108e5",
   "metadata": {},
   "source": [
    "Q 6) Can we use multiple exception blocks, if yes then give an example.\n"
   ]
  },
  {
   "cell_type": "markdown",
   "id": "3def48b9",
   "metadata": {},
   "source": [
    "#Ans 6)\n",
    "Yes, you can use multiple except blocks to handle different types of exceptions in Python. This allows you to provide specific exception handling code for each type of exception that you anticipate or want to handle separately."
   ]
  },
  {
   "cell_type": "markdown",
   "id": "bc53b8a6",
   "metadata": {},
   "source": [
    "try:\n",
    "    # Code that might raise an exception\n",
    "    x = int(\"abc\")  # Raises a ValueError\n",
    "    y = 10 / 0     # Raises a ZeroDivisionError\n",
    "except ValueError:\n",
    "    # Exception handling code for ValueError\n",
    "    print(\"Error: Invalid value provided.\")\n",
    "except ZeroDivisionError:\n",
    "    # Exception handling code for ZeroDivisionError\n",
    "    print(\"Error: Division by zero is not allowed.\")\n"
   ]
  },
  {
   "cell_type": "markdown",
   "id": "92efc5e8",
   "metadata": {},
   "source": [
    "Q 7) Write the reason due to which following errors are raised:\n",
    "a. EOFError\n",
    "b. FloatingPointError\n",
    "c. IndexError\n",
    "d. MemoryError\n",
    "e. OverflowError\n",
    "f. TabError\n",
    "g. ValueErro"
   ]
  },
  {
   "cell_type": "markdown",
   "id": "f4d5f307",
   "metadata": {},
   "source": [
    "#Ans 7)\n",
    "a. EOFError:\n",
    "This error occurs when the end of a file or input stream is reached unexpectedly. It typically happens when a function or method expects more data to be read, but there is no more data available.\n",
    "\n",
    "b. FloatingPointError:\n",
    "The FloatingPointError is raised when a floating-point arithmetic operation fails to produce a valid result. This can occur due to various reasons, such as dividing a number by zero or performing an invalid mathematical operation.\n",
    "\n",
    "c. IndexError:\n",
    "An IndexError is raised when you try to access an index that is outside the range of valid indices for a sequence or collection (e.g., a list or tuple). It typically happens when you attempt to access an element using an index that is greater than or equal to the length of the sequence.\n",
    "\n",
    "d. MemoryError:\n",
    "The MemoryError is raised when the program runs out of available memory to allocate for an object. This can occur when you try to create a large data structure or allocate more memory than the system can provide.\n",
    "\n",
    "e. OverflowError:\n",
    "The OverflowError occurs when a mathematical operation exceeds the maximum representable value for a numeric type. For example, it can happen when performing an arithmetic operation that results in a number larger than the maximum value that can be stored in the given numeric type.\n",
    "\n",
    "f. TabError:\n",
    "A TabError is raised when there is an issue with the indentation of code using tabs. It typically occurs when mixing tabs and spaces for indentation or when the indentation level is not consistent within the code.\n",
    "\n",
    "g. ValueError:\n",
    "The ValueError is a general-purpose exception that is raised when an operation or function receives an argument of the correct type but an inappropriate value. It indicates that the input value does not meet the requirements or expectations of the function or operation.\n",
    "\n"
   ]
  },
  {
   "cell_type": "markdown",
   "id": "e01067f1",
   "metadata": {},
   "source": [
    "Q 8) Write code for the following given scenario and add try-exception block to it.\n",
    "a. Program to divide two numbers\n",
    "b. Program to convert a string to an integer\n",
    "c. Program to access an element in a list\n",
    "d. Program to handle a specific exception\n",
    "e. Program to handle any exceptio"
   ]
  },
  {
   "cell_type": "markdown",
   "id": "f5adee7f",
   "metadata": {},
   "source": [
    "#Ans 8\n"
   ]
  },
  {
   "cell_type": "markdown",
   "id": "a55c5bcd",
   "metadata": {},
   "source": [
    "#a. Program to divide two numbers\n",
    "try:\n",
    "    dividend = int(input(\"Enter the dividend: \"))\n",
    "    divisor = int(input(\"Enter the divisor: \"))\n",
    "    result = dividend / divisor\n",
    "    print(\"Result:\", result)\n",
    "except ZeroDivisionError:\n",
    "    print(\"Error: Division by zero is not allowed.\")\n",
    "except ValueError:\n",
    "    print(\"Error: Invalid input. Please enter valid integers.\")\n"
   ]
  },
  {
   "cell_type": "markdown",
   "id": "7ec14c4e",
   "metadata": {},
   "source": [
    "# b. Program to convert a string to an integer:\n",
    "try:\n",
    "    number_str = input(\"Enter a number: \")\n",
    "    number = int(number_str)\n",
    "    print(\"Number:\", number)\n",
    "except ValueError:\n",
    "    print(\"Error: Invalid input. Please enter a valid integer.\")\n"
   ]
  },
  {
   "cell_type": "markdown",
   "id": "c4edd929",
   "metadata": {},
   "source": [
    "#c. Program to access an element in a list\n",
    "try:\n",
    "    my_list = [1, 2, 3, 4, 5]\n",
    "    index = int(input(\"Enter an index: \"))\n",
    "    element = my_list[index]\n",
    "    print(\"Element at index\", index, \":\", element)\n",
    "except IndexError:\n",
    "    print(\"Error: Index out of range.\")\n",
    "except ValueError:\n",
    "    print(\"Error: Invalid input. Please enter a valid integer.\")\n"
   ]
  },
  {
   "cell_type": "markdown",
   "id": "c988fe2a",
   "metadata": {},
   "source": [
    "#d. Program to handle a specific exception:\n",
    "try:\n",
    "    # Code that might raise a specific exception\n",
    "    # ...\n",
    "except SpecificException:\n",
    "    # Exception handling code for the specific exception\n",
    "    # ...\n"
   ]
  },
  {
   "cell_type": "markdown",
   "id": "22f6ef80",
   "metadata": {},
   "source": [
    "#e. Program to handle any exception:\n",
    "try:\n",
    "    # Code that might raise an exception\n",
    "    # ...\n",
    "except Exception as e:\n",
    "    # Exception handling code for any exception\n",
    "    print(\"An error occurred:\", str(e))\n"
   ]
  },
  {
   "cell_type": "markdown",
   "id": "ccd4e879",
   "metadata": {},
   "source": []
  },
  {
   "cell_type": "markdown",
   "id": "463fae27",
   "metadata": {},
   "source": []
  },
  {
   "cell_type": "markdown",
   "id": "16ba5ff6",
   "metadata": {},
   "source": []
  },
  {
   "cell_type": "markdown",
   "id": "38326c1d",
   "metadata": {},
   "source": []
  },
  {
   "cell_type": "code",
   "execution_count": null,
   "id": "ae8e5331",
   "metadata": {},
   "outputs": [],
   "source": []
  },
  {
   "cell_type": "code",
   "execution_count": null,
   "id": "2b0d7fc4",
   "metadata": {},
   "outputs": [],
   "source": []
  },
  {
   "cell_type": "code",
   "execution_count": null,
   "id": "a7e9eac0",
   "metadata": {},
   "outputs": [],
   "source": []
  },
  {
   "cell_type": "code",
   "execution_count": null,
   "id": "175de855",
   "metadata": {},
   "outputs": [],
   "source": []
  },
  {
   "cell_type": "code",
   "execution_count": null,
   "id": "d98a8484",
   "metadata": {},
   "outputs": [],
   "source": []
  },
  {
   "cell_type": "code",
   "execution_count": null,
   "id": "85eccd55",
   "metadata": {},
   "outputs": [],
   "source": []
  },
  {
   "cell_type": "code",
   "execution_count": null,
   "id": "6c57da4e",
   "metadata": {},
   "outputs": [],
   "source": []
  },
  {
   "cell_type": "code",
   "execution_count": null,
   "id": "082b2bd9",
   "metadata": {},
   "outputs": [],
   "source": []
  },
  {
   "cell_type": "code",
   "execution_count": null,
   "id": "a79e90dc",
   "metadata": {},
   "outputs": [],
   "source": []
  },
  {
   "cell_type": "code",
   "execution_count": null,
   "id": "8e2d0a70",
   "metadata": {},
   "outputs": [],
   "source": []
  },
  {
   "cell_type": "code",
   "execution_count": null,
   "id": "07d784dd",
   "metadata": {},
   "outputs": [],
   "source": []
  },
  {
   "cell_type": "code",
   "execution_count": null,
   "id": "d4d42643",
   "metadata": {},
   "outputs": [],
   "source": []
  },
  {
   "cell_type": "code",
   "execution_count": null,
   "id": "c2329fa1",
   "metadata": {},
   "outputs": [],
   "source": []
  },
  {
   "cell_type": "code",
   "execution_count": null,
   "id": "a97af210",
   "metadata": {},
   "outputs": [],
   "source": []
  },
  {
   "cell_type": "code",
   "execution_count": null,
   "id": "dd6df39a",
   "metadata": {},
   "outputs": [],
   "source": []
  },
  {
   "cell_type": "code",
   "execution_count": null,
   "id": "5c7b74bc",
   "metadata": {},
   "outputs": [],
   "source": []
  },
  {
   "cell_type": "code",
   "execution_count": null,
   "id": "003d7d6f",
   "metadata": {},
   "outputs": [],
   "source": []
  },
  {
   "cell_type": "code",
   "execution_count": null,
   "id": "e2ad4bf6",
   "metadata": {},
   "outputs": [],
   "source": []
  },
  {
   "cell_type": "code",
   "execution_count": null,
   "id": "a8bd232b",
   "metadata": {},
   "outputs": [],
   "source": []
  },
  {
   "cell_type": "code",
   "execution_count": null,
   "id": "920748df",
   "metadata": {},
   "outputs": [],
   "source": []
  },
  {
   "cell_type": "code",
   "execution_count": null,
   "id": "9ea092f9",
   "metadata": {},
   "outputs": [],
   "source": []
  },
  {
   "cell_type": "code",
   "execution_count": null,
   "id": "4a23deb8",
   "metadata": {},
   "outputs": [],
   "source": []
  },
  {
   "cell_type": "code",
   "execution_count": null,
   "id": "1b723230",
   "metadata": {},
   "outputs": [],
   "source": []
  },
  {
   "cell_type": "code",
   "execution_count": null,
   "id": "3ee7817a",
   "metadata": {},
   "outputs": [],
   "source": []
  },
  {
   "cell_type": "code",
   "execution_count": null,
   "id": "52dfbca9",
   "metadata": {},
   "outputs": [],
   "source": []
  },
  {
   "cell_type": "code",
   "execution_count": null,
   "id": "2bba1bb9",
   "metadata": {},
   "outputs": [],
   "source": []
  },
  {
   "cell_type": "code",
   "execution_count": null,
   "id": "2603dd9c",
   "metadata": {},
   "outputs": [],
   "source": []
  },
  {
   "cell_type": "code",
   "execution_count": null,
   "id": "8c3e6086",
   "metadata": {},
   "outputs": [],
   "source": []
  },
  {
   "cell_type": "code",
   "execution_count": null,
   "id": "0d8022af",
   "metadata": {},
   "outputs": [],
   "source": []
  },
  {
   "cell_type": "code",
   "execution_count": null,
   "id": "99131267",
   "metadata": {},
   "outputs": [],
   "source": []
  },
  {
   "cell_type": "code",
   "execution_count": null,
   "id": "1d1ece7f",
   "metadata": {},
   "outputs": [],
   "source": []
  },
  {
   "cell_type": "code",
   "execution_count": null,
   "id": "bc805a4f",
   "metadata": {},
   "outputs": [],
   "source": []
  },
  {
   "cell_type": "code",
   "execution_count": null,
   "id": "bf85b999",
   "metadata": {},
   "outputs": [],
   "source": []
  },
  {
   "cell_type": "code",
   "execution_count": null,
   "id": "76752d95",
   "metadata": {},
   "outputs": [],
   "source": []
  },
  {
   "cell_type": "code",
   "execution_count": null,
   "id": "64ab7ca4",
   "metadata": {},
   "outputs": [],
   "source": []
  },
  {
   "cell_type": "code",
   "execution_count": null,
   "id": "09e8e644",
   "metadata": {},
   "outputs": [],
   "source": []
  },
  {
   "cell_type": "code",
   "execution_count": null,
   "id": "d1f9ab03",
   "metadata": {},
   "outputs": [],
   "source": []
  },
  {
   "cell_type": "code",
   "execution_count": null,
   "id": "0cf8ec10",
   "metadata": {},
   "outputs": [],
   "source": []
  },
  {
   "cell_type": "code",
   "execution_count": null,
   "id": "2f287429",
   "metadata": {},
   "outputs": [],
   "source": []
  },
  {
   "cell_type": "code",
   "execution_count": null,
   "id": "2774ac29",
   "metadata": {},
   "outputs": [],
   "source": []
  },
  {
   "cell_type": "code",
   "execution_count": null,
   "id": "0bf11de6",
   "metadata": {},
   "outputs": [],
   "source": []
  },
  {
   "cell_type": "code",
   "execution_count": null,
   "id": "93bf509e",
   "metadata": {},
   "outputs": [],
   "source": []
  }
 ],
 "metadata": {
  "kernelspec": {
   "display_name": "Python 3 (ipykernel)",
   "language": "python",
   "name": "python3"
  },
  "language_info": {
   "codemirror_mode": {
    "name": "ipython",
    "version": 3
   },
   "file_extension": ".py",
   "mimetype": "text/x-python",
   "name": "python",
   "nbconvert_exporter": "python",
   "pygments_lexer": "ipython3",
   "version": "3.9.13"
  }
 },
 "nbformat": 4,
 "nbformat_minor": 5
}
